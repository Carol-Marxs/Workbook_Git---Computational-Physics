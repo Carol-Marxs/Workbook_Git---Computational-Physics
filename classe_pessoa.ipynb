{
 "cells": [
  {
   "cell_type": "code",
   "execution_count": 6,
   "metadata": {},
   "outputs": [],
   "source": [
    "class aluno():\n",
    "\n",
    "    def __init__(self, nome, num_ufu):\n",
    "        self.nome = nome\n",
    "        self.num_ufu = num_ufu\n",
    "        self.notas = [] # lista vazia de notas\n",
    "        \n",
    "    def imprime_ficha(self):\n",
    "        print('Nome:', self.nome)\n",
    "        print('# UFU:', self.num_ufu)\n",
    "        print('Notas:', self.notas)\n",
    "        print('Media:', self.media)\n",
    "        \n",
    "    def atribuir_nota(self, nota):\n",
    "        self.notas.append(nota)\n",
    "    \n",
    "    @property\n",
    "    def media(self):\n",
    "        return sum(self.notas) / 5\n"
   ]
  },
  {
   "cell_type": "code",
   "execution_count": 7,
   "metadata": {},
   "outputs": [],
   "source": [
    "olavo = aluno(\"Olavo Viola\", \"123FIS45678\")\n",
    "pedro = aluno(\"Pedro Dornelas\", \"123FIS000000\")\n",
    "\n",
    "olavo.atribuir_nota(8)\n",
    "olavo.atribuir_nota(6)"
   ]
  },
  {
   "cell_type": "code",
   "execution_count": 8,
   "metadata": {},
   "outputs": [
    {
     "data": {
      "text/plain": [
       "2.8"
      ]
     },
     "execution_count": 8,
     "metadata": {},
     "output_type": "execute_result"
    }
   ],
   "source": [
    "olavo.media"
   ]
  },
  {
   "cell_type": "code",
   "execution_count": 9,
   "metadata": {},
   "outputs": [],
   "source": [
    "olavo.atribuir_nota(10)"
   ]
  },
  {
   "cell_type": "code",
   "execution_count": 10,
   "metadata": {},
   "outputs": [
    {
     "data": {
      "text/plain": [
       "4.8"
      ]
     },
     "execution_count": 10,
     "metadata": {},
     "output_type": "execute_result"
    }
   ],
   "source": [
    "olavo.media"
   ]
  }
 ],
 "metadata": {
  "kernelspec": {
   "display_name": "fiscomp",
   "language": "python",
   "name": "python3"
  },
  "language_info": {
   "codemirror_mode": {
    "name": "ipython",
    "version": 3
   },
   "file_extension": ".py",
   "mimetype": "text/x-python",
   "name": "python",
   "nbconvert_exporter": "python",
   "pygments_lexer": "ipython3",
   "version": "3.13.2"
  }
 },
 "nbformat": 4,
 "nbformat_minor": 2
}
