{
 "cells": [
  {
   "cell_type": "code",
   "execution_count": null,
   "metadata": {},
   "outputs": [
    {
     "ename": "",
     "evalue": "",
     "output_type": "error",
     "traceback": [
      "\u001b[1;31mThe kernel failed to start as the Python Environment 'fiscomp (Python -1.-1.-1)' is no longer available. Consider selecting another kernel or refreshing the list of Python Environments."
     ]
    }
   ],
   "source": [
    "class aluno():\n",
    "\n",
    "    def __init__(self, nome, num_ufu):\n",
    "        # metodo de inicialização\n",
    "        self.nome = nome\n",
    "        self.num_ufu = num_ufu\n",
    "        self.notas = [] # lista vazia de notas\n",
    "        \n",
    "    def imprime_ficha(self):\n",
    "        print('Nome:', self.nome)\n",
    "        print('# UFU:', self.num_ufu)\n",
    "        print('Notas:', self.notas)\n",
    "        print('Media:', self.media)\n",
    "        \n",
    "    def atribuir_nota(self, nota):\n",
    "        self.notas.append(nota)\n",
    "    \n",
    "    @property\n",
    "    def media(self):\n",
    "        return sum(self.notas) / 5\n"
   ]
  },
  {
   "cell_type": "code",
   "execution_count": null,
   "metadata": {},
   "outputs": [],
   "source": [
    "olavo = aluno(\"Olavo Viola\", \"123FIS45678\")\n",
    "pedro = aluno(\"Pedro Dornelas\", \"123FIS000000\")\n",
    "\n",
    "olavo.atribuir_nota(8)\n",
    "olavo.atribuir_nota(6)"
   ]
  }
 ],
 "metadata": {
  "kernelspec": {
   "display_name": "fiscomp",
   "language": "python",
   "name": "python3"
  },
  "language_info": {
   "name": "python",
   "version": "-1.-1.-1"
  }
 },
 "nbformat": 4,
 "nbformat_minor": 2
}
